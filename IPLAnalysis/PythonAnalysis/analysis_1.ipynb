{
 "cells": [
  {
   "cell_type": "code",
   "execution_count": 4,
   "metadata": {
    "collapsed": true
   },
   "outputs": [],
   "source": [
    "import matplotlib.pyplot as plt\n",
    "import seaborn as sns\n",
    "%matplotlib inline\n",
    "from scipy.misc import imread"
   ]
  },
  {
   "cell_type": "code",
   "execution_count": 2,
   "metadata": {
    "collapsed": false
   },
   "outputs": [
    {
     "name": "stderr",
     "output_type": "stream",
     "text": [
      "usage: __main__.py [-h] [--Team TEAM]\n",
      "__main__.py: error: unrecognized arguments: -f C:\\Users\\aniru\\AppData\\Roaming\\jupyter\\runtime\\kernel-fc5d7f6f-c354-4e22-9cf6-b6ad6d39a0bd.json\n"
     ]
    },
    {
     "ename": "SystemExit",
     "evalue": "2",
     "output_type": "error",
     "traceback": [
      "An exception has occurred, use %tb to see the full traceback.\n",
      "\u001b[1;31mSystemExit\u001b[0m\u001b[1;31m:\u001b[0m 2\n"
     ]
    },
    {
     "name": "stderr",
     "output_type": "stream",
     "text": [
      "To exit: use 'exit', 'quit', or Ctrl-D.\n"
     ]
    }
   ],
   "source": [
    "import numpy as np\n",
    "from datetime import datetime\n",
    "import os\n",
    "import sys\n",
    "import glob\n",
    "import pandas as pd\n",
    "import argparse\n",
    "parser = argparse.ArgumentParser()\n",
    "parser.add_argument(\"--Team\", help=\"provide a search term, latitude, longitude and radius\")\n",
    "#parser.add_argument(\"--location\", help=\"provide a search term, latitude, longitude and radius\")\n",
    "args = parser.parse_args()\n",
    "batting_team = args.Team\n",
    "dict_1 = {}\n",
    "dict_2 = {}\n",
    "x = glob.glob(r'C:\\Users\\aniru\\Desktop\\Season\\*.csv')\n",
    "appended_data = []\n",
    "for g in  x :\n",
    "    df1 = pd.read_csv(g)\n",
    "    if batting_team in df1['batting_team'].unique().tolist() :\n",
    "        df2 = analysis_3(df1, batting_team)\n",
    "        appended_data.append(df2)\n",
    "appended_data = pd.concat(appended_data, axis=0)\n",
    "appended_data = appended_data.reset_index()\n",
    "appended_data = appended_data.set_index(['over'])\n",
    "a = appended_data['total_wickets'].reset_index()\n",
    "b = a['total_wickets'].tolist()\n",
    "fig = plt.figure() \n",
    "ax = fig.add_subplot(1, 1, 1)\n",
    "ax.hist(b, bins=20, color='blue')\n",
    "ax.set_xlabel('over')\n",
    "ax.set_ylabel('Total Wickets Fallen')\n",
    "plt.xlim(1,20)\n",
    "plt.ylim(1,100)\n",
    "ax.set_title('Fall of wickets ranging all seasons :' + batting_team)"
   ]
  },
  {
   "cell_type": "code",
   "execution_count": 1,
   "metadata": {
    "collapsed": true
   },
   "outputs": [],
   "source": [
    "def analysis_3( df, batting_team ) :\n",
    "    df = df[df['batting_team'] == batting_team]\n",
    "    l = []\n",
    "    for j in df.over.unique().tolist() :\n",
    "        df2 = df[df['over'] == j]\n",
    "        df2 = df2.set_index(['over'] , drop = True)\n",
    "        df2 = df2[['season','batting_team', 'player_dismissed' , 'dismissal_kind']]\n",
    "        df2['player_dismissed'].fillna(0, inplace=True)\n",
    "        #df2['dismissal_kind'].fillna(0, inplace=True)\n",
    "         #df2['dismissal_kind'].fillna(0, inplace=True)\n",
    "        df2 = df2[df2['player_dismissed'] != 0]\n",
    "        #df2.loc[j,'run_outs'] = len(df2[df2['dismissal_kind'] == 'run out'])\n",
    "        #df2.loc[j,'total_wickets'] = len(df2[df2['player_dismissed'] != 0])\n",
    "        df2.loc[j,'total_wickets'] = j\n",
    "        df2 = df2[['season' , 'batting_team' , 'total_wickets']]\n",
    "        l.append(df2)\n",
    "    l = pd.concat(l, axis=0)\n",
    "    return l"
   ]
  },
  {
   "cell_type": "code",
   "execution_count": null,
   "metadata": {
    "collapsed": true
   },
   "outputs": [],
   "source": []
  },
  {
   "cell_type": "code",
   "execution_count": null,
   "metadata": {
    "collapsed": true
   },
   "outputs": [],
   "source": []
  },
  {
   "cell_type": "code",
   "execution_count": null,
   "metadata": {
    "collapsed": true
   },
   "outputs": [],
   "source": []
  },
  {
   "cell_type": "code",
   "execution_count": null,
   "metadata": {
    "collapsed": true
   },
   "outputs": [],
   "source": []
  },
  {
   "cell_type": "code",
   "execution_count": null,
   "metadata": {
    "collapsed": true
   },
   "outputs": [],
   "source": []
  },
  {
   "cell_type": "code",
   "execution_count": null,
   "metadata": {
    "collapsed": true
   },
   "outputs": [],
   "source": []
  },
  {
   "cell_type": "code",
   "execution_count": null,
   "metadata": {
    "collapsed": true
   },
   "outputs": [],
   "source": []
  },
  {
   "cell_type": "code",
   "execution_count": null,
   "metadata": {
    "collapsed": true
   },
   "outputs": [],
   "source": []
  }
 ],
 "metadata": {
  "anaconda-cloud": {},
  "kernelspec": {
   "display_name": "Python [Root]",
   "language": "python",
   "name": "Python [Root]"
  },
  "language_info": {
   "codemirror_mode": {
    "name": "ipython",
    "version": 3
   },
   "file_extension": ".py",
   "mimetype": "text/x-python",
   "name": "python",
   "nbconvert_exporter": "python",
   "pygments_lexer": "ipython3",
   "version": "3.5.2"
  }
 },
 "nbformat": 4,
 "nbformat_minor": 0
}
