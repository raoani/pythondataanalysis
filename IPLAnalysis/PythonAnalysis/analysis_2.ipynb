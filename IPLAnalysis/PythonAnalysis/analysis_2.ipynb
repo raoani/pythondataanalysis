{
 "cells": [
  {
   "cell_type": "code",
   "execution_count": 1,
   "metadata": {
    "collapsed": true
   },
   "outputs": [],
   "source": [
    "import numpy as np\n",
    "from datetime import datetime\n",
    "import os\n",
    "import sys\n",
    "import glob\n",
    "import pandas as pd\n",
    "import matplotlib.pyplot as plt\n",
    "import seaborn as sns\n",
    "%matplotlib inline"
   ]
  },
  {
   "cell_type": "code",
   "execution_count": 16,
   "metadata": {
    "collapsed": true
   },
   "outputs": [],
   "source": [
    "dict_1 = {}\n",
    "dict_2 = {}\n",
    "batting_team = 'Royal Challengers Bangalore'\n",
    "x = glob.glob(r'C:\\Users\\aniru\\Desktop\\Season\\*.csv')\n",
    "l = []"
   ]
  },
  {
   "cell_type": "code",
   "execution_count": 3,
   "metadata": {
    "collapsed": true
   },
   "outputs": [],
   "source": [
    "def analysis_2(df,batting_team) :                             \n",
    "    df = df[df['batting_team'] == batting_team]\n",
    "    df = df.set_index(['batting_team'], drop = False)\n",
    "    df['total_runs_all'] = sum(df['total_runs'])            #Calculates the sum of total runs scored by a team\n",
    "#df['number_of_4s']\n",
    "    df['percentage_from_6s'] = round(sum(df[df['batsman_runs'] == 6]['total_runs'])/df['total_runs_all']*100) #extracts data only if the batsman has hit a 6.\n",
    "    df['percentage_from_4s'] = round(sum(df[df['batsman_runs'] == 4]['total_runs'])/df['total_runs_all']*100) #extracts data only if the batsman has hit a 4.\n",
    "    df['percentage_from_extra'] = round(sum(df['extra_runs'])/df['total_runs_all']*100) #extracts data of only extras.\n",
    "    df['runs_from_rest'] = 100 - df['percentage_from_6s'] - df['percentage_from_4s'] - df['percentage_from_extra'] #only data from other than the rest\n",
    "    df = df[['season' ,'batting_team', 'percentage_from_6s', 'percentage_from_4s', 'percentage_from_extra' ,'runs_from_rest']]\n",
    "    df = df.drop_duplicates() #drops all the duplicates value.\n",
    "    return df"
   ]
  },
  {
   "cell_type": "code",
   "execution_count": 17,
   "metadata": {
    "collapsed": true
   },
   "outputs": [],
   "source": [
    "x = glob.glob(r'C:\\Users\\aniru\\Desktop\\Season\\*.csv')\n",
    "appended_data = []\n",
    "for i in x :\n",
    "    df5 = pd.read_csv(i)\n",
    "    df5 = analysis_2(df5, batting_team)\n",
    "    appended_data.append(df5)\n",
    "appended_data = pd.concat(appended_data, axis=0)\n",
    "appended_data = appended_data.reset_index(drop = True)\n",
    "y1 = appended_data.season.unique().tolist()"
   ]
  },
  {
   "cell_type": "code",
   "execution_count": 25,
   "metadata": {
    "collapsed": false
   },
   "outputs": [
    {
     "data": {
      "text/plain": [
       "(1, 100)"
      ]
     },
     "execution_count": 25,
     "metadata": {},
     "output_type": "execute_result"
    },
    {
     "data": {
      "image/png": "[encoded data removed]",
      "text/plain": [
       "<matplotlib.figure.Figure at 0x1ed937552e8>"
      ]
     },
     "metadata": {},
     "output_type": "display_data"
    }
   ],
   "source": [
    "def autolabel(rects):\n",
    "    for rect in rects:\n",
    "        h = rect.get_height()\n",
    "        ax.text(rect.get_x()+rect.get_width()/2, 1.0*h, '%d'%int(h),\n",
    "                ha='center', va='bottom')\n",
    "width = 0.2\n",
    "fig = plt.figure()\n",
    "ax = fig.add_subplot(111)\n",
    "\n",
    "ax.set_title('Percentage of 4s, 6s and extras through all seasons : ' + batting_team)\n",
    "ax.set_ylabel('Percentage of runs')\n",
    "ax.set_xlabel('Season')\n",
    "ax.set_xticks(appended_data.season+width)\n",
    "ax.set_xticklabels( appended_data.season.unique().tolist() )        \n",
    "sns.set_style(\"whitegrid\")\n",
    "rects1 = ax.bar(appended_data.season, appended_data.percentage_from_6s, width, color='#f9a65a')\n",
    "rects2 = ax.bar(appended_data.season+width, appended_data.percentage_from_4s, width, color='#f1595f')\n",
    "rects3 = ax.bar(appended_data.season+width*2, appended_data.percentage_from_extra, width, color='#79c36a')\n",
    "rects4 = ax.bar(appended_data.season+width*3, appended_data.runs_from_rest, width, color=\"#599ad3\")\n",
    "ax.legend( (rects1[0], rects2[0], rects3[0], rects4[0]), ('Percentage of 6s', 'Percentage of 4s', 'Percentage of extras','Percentage of runs scored(Execpt Boundaries)') )\n",
    "\n",
    "autolabel(rects1)\n",
    "autolabel(rects2)\n",
    "autolabel(rects3)\n",
    "autolabel(rects4)\n",
    "plt.ylim([1,100])\n"
   ]
  },
  {
   "cell_type": "code",
   "execution_count": null,
   "metadata": {
    "collapsed": true
   },
   "outputs": [],
   "source": []
  },
  {
   "cell_type": "code",
   "execution_count": null,
   "metadata": {
    "collapsed": true
   },
   "outputs": [],
   "source": []
  },
  {
   "cell_type": "code",
   "execution_count": null,
   "metadata": {
    "collapsed": true
   },
   "outputs": [],
   "source": []
  },
  {
   "cell_type": "code",
   "execution_count": null,
   "metadata": {
    "collapsed": true
   },
   "outputs": [],
   "source": []
  },
  {
   "cell_type": "code",
   "execution_count": null,
   "metadata": {
    "collapsed": true
   },
   "outputs": [],
   "source": []
  },
  {
   "cell_type": "code",
   "execution_count": null,
   "metadata": {
    "collapsed": true
   },
   "outputs": [],
   "source": []
  }
 ],
 "metadata": {
  "anaconda-cloud": {},
  "kernelspec": {
   "display_name": "Python [Root]",
   "language": "python",
   "name": "Python [Root]"
  },
  "language_info": {
   "codemirror_mode": {
    "name": "ipython",
    "version": 3
   },
   "file_extension": ".py",
   "mimetype": "text/x-python",
   "name": "python",
   "nbconvert_exporter": "python",
   "pygments_lexer": "ipython3",
   "version": "3.5.2"
  }
 },
 "nbformat": 4,
 "nbformat_minor": 0
}
