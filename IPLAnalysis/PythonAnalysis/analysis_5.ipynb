{
 "cells": [
  {
   "cell_type": "code",
   "execution_count": 13,
   "metadata": {
    "collapsed": false
   },
   "outputs": [
    {
     "data": {
      "image/png": "[encoded data removed]",
      "text/plain": [
       "<matplotlib.figure.Figure at 0x2c03c9670f0>"
      ]
     },
     "metadata": {},
     "output_type": "display_data"
    },
    {
     "data": {
      "text/html": [
       "<div>\n",
       "<table border=\"1\" class=\"dataframe\">\n",
       "  <thead>\n",
       "    <tr style=\"text-align: right;\">\n",
       "      <th></th>\n",
       "      <th>over</th>\n",
       "      <th>season</th>\n",
       "      <th>runs_according_to_powerplay</th>\n",
       "    </tr>\n",
       "  </thead>\n",
       "  <tbody>\n",
       "    <tr>\n",
       "      <th>1</th>\n",
       "      <td>6</td>\n",
       "      <td>2008</td>\n",
       "      <td>42.0</td>\n",
       "    </tr>\n",
       "    <tr>\n",
       "      <th>2</th>\n",
       "      <td>20</td>\n",
       "      <td>2008</td>\n",
       "      <td>126.0</td>\n",
       "    </tr>\n",
       "    <tr>\n",
       "      <th>4</th>\n",
       "      <td>6</td>\n",
       "      <td>2009</td>\n",
       "      <td>48.0</td>\n",
       "    </tr>\n",
       "    <tr>\n",
       "      <th>5</th>\n",
       "      <td>20</td>\n",
       "      <td>2009</td>\n",
       "      <td>126.0</td>\n",
       "    </tr>\n",
       "    <tr>\n",
       "      <th>7</th>\n",
       "      <td>6</td>\n",
       "      <td>2010</td>\n",
       "      <td>41.0</td>\n",
       "    </tr>\n",
       "    <tr>\n",
       "      <th>8</th>\n",
       "      <td>20</td>\n",
       "      <td>2010</td>\n",
       "      <td>70.0</td>\n",
       "    </tr>\n",
       "    <tr>\n",
       "      <th>10</th>\n",
       "      <td>6</td>\n",
       "      <td>2011</td>\n",
       "      <td>42.0</td>\n",
       "    </tr>\n",
       "    <tr>\n",
       "      <th>11</th>\n",
       "      <td>20</td>\n",
       "      <td>2011</td>\n",
       "      <td>112.0</td>\n",
       "    </tr>\n",
       "    <tr>\n",
       "      <th>13</th>\n",
       "      <td>6</td>\n",
       "      <td>2012</td>\n",
       "      <td>39.0</td>\n",
       "    </tr>\n",
       "    <tr>\n",
       "      <th>14</th>\n",
       "      <td>20</td>\n",
       "      <td>2012</td>\n",
       "      <td>98.0</td>\n",
       "    </tr>\n",
       "  </tbody>\n",
       "</table>\n",
       "</div>"
      ],
      "text/plain": [
       "    over  season  runs_according_to_powerplay\n",
       "1      6    2008                         42.0\n",
       "2     20    2008                        126.0\n",
       "4      6    2009                         48.0\n",
       "5     20    2009                        126.0\n",
       "7      6    2010                         41.0\n",
       "8     20    2010                         70.0\n",
       "10     6    2011                         42.0\n",
       "11    20    2011                        112.0\n",
       "13     6    2012                         39.0\n",
       "14    20    2012                         98.0"
      ]
     },
     "execution_count": 13,
     "metadata": {},
     "output_type": "execute_result"
    }
   ],
   "source": [
    "import numpy as np\n",
    "from datetime import datetime\n",
    "import os\n",
    "import sys\n",
    "import glob\n",
    "import pandas as pd\n",
    "import matplotlib.pyplot as plt\n",
    "import seaborn as sns\n",
    "%matplotlib inline\n",
    "import argparse\n",
    "#parser = argparse.ArgumentParser()\n",
    "#parser.add_argument(\"--Team\", help=\"provide a search term, latitude, longitude and radius\")\n",
    "#parser.add_argument(\"--location\", help=\"provide a search term, latitude, longitude and radius\")\n",
    "#args = parser.parse_args()\n",
    "dict_1 = {}\n",
    "dict_2 = {}\n",
    "batting_team = 'Deccan Chargers'\n",
    "x = glob.glob(r'C:\\Users\\aniru\\Desktop\\Season\\*.csv')\n",
    "appended_data = []\n",
    "for g in  x :\n",
    "    df1 = pd.read_csv(g)\n",
    "    if batting_team in df1.batting_team.unique() : \n",
    "        df2 = priliminary_analysis(df1, batting_team)\n",
    "        appended_data.append(df2)\n",
    "appended_data = pd.concat(appended_data, axis=0)\n",
    "appended_data.set_index(['season'] )\n",
    "appended_data\n",
    "df3 = appended_data.loc[6]\n",
    "df4 = appended_data.loc[20]\n",
    "#store each in a CSV and then Plo\n",
    "df1 = appended_data.reset_index(drop = False)\n",
    "df1 = df1[np.isfinite(df1['runs_according_to_powerplay'])]   #select only finite values of input\n",
    "ax = sns.pointplot(x=\"over\", y=\"runs_according_to_powerplay\", hue=\"season\",\n",
    "                    data=df1)\n",
    "sns.set_style('whitegrid')\n",
    "ax.set(xlabel = 'Average power play runs per season' , ylabel = 'Overs' , title = 'Runs during and after powerplay : ' + batting_team)\n",
    "plt.savefig('foo4.png')\n",
    "plt.show()\n",
    "df1"
   ]
  },
  {
   "cell_type": "code",
   "execution_count": 7,
   "metadata": {
    "collapsed": true
   },
   "outputs": [],
   "source": [
    "def priliminary_analysis(s_8, batting_team) :\n",
    "    s_10 = 0\n",
    "    s_11 = 0\n",
    "    s_8 = s_8[s_8['dl_applied']==0]\n",
    "    s_8 = s_8.set_index(['batting_team'] , drop = False)\n",
    "    s_8 = s_8[s_8['batting_team'] == batting_team]\n",
    "    s_8 = s_8.set_index(['over'] , drop = False)\n",
    "    s_9 = s_8.set_index(['over'] , drop = False)\n",
    "    x = len(s_8.match_id.unique())\n",
    "    a = s_9.over.unique().tolist()\n",
    "    for k in a[:6] : #select only runs till 6th over\n",
    "        s_10 = s_10 + round(sum(s_8[s_8['over']==k]['batsman_runs'])/x) #+ round(sum(s_8[s_8['over']==k+ 1]['batsman_runs'])/x) + round(sum(s_8[s_8['over']==k +2 ]['batsman_runs'])/x) + round(sum(s_8[s_8['over']==k+3]['batsman_runs'])/x)+round(sum(s_8[s_8['over']==k+4]['batsman_runs'])/x)\n",
    "        s_9.loc[6,'runs_according_to_powerplay'] = s_10  \n",
    "        #dict_3[j] = [sum(z[:5]) , sum(z[5:10]) , sum(z[10:15]) , sum(z[15:20])\n",
    "    for j in a[6:] : #select from 6 to 20th over\n",
    "        s_11 = s_11 + round(sum(s_8[s_8['over']==k]['batsman_runs'])/x) #+ round(sum(s_8[s_8['over']==k+ 1]['batsman_runs'])/x) + round(sum(s_8[s_8['over']==k +2 ]['batsman_runs'])/x) + round(sum(s_8[s_8['over']==k+3]['batsman_runs'])/x)+round(sum(s_8[s_8['over']==k+4]['batsman_runs'])/x)\n",
    "        s_9.loc[20,'runs_according_to_powerplay'] = s_11  \n",
    "    s_9 = s_9[s_9['runs_according_to_powerplay']!=0]\n",
    "    s_9 = s_9[['season','runs_according_to_powerplay']].drop_duplicates()\n",
    "    return(s_9)\n",
    "#Arrange the combined file into seasons, divide the file into different season, use the abpve function and try to plot. "
   ]
  },
  {
   "cell_type": "code",
   "execution_count": null,
   "metadata": {
    "collapsed": true
   },
   "outputs": [],
   "source": []
  },
  {
   "cell_type": "code",
   "execution_count": null,
   "metadata": {
    "collapsed": true
   },
   "outputs": [],
   "source": []
  },
  {
   "cell_type": "code",
   "execution_count": null,
   "metadata": {
    "collapsed": true
   },
   "outputs": [],
   "source": []
  },
  {
   "cell_type": "code",
   "execution_count": null,
   "metadata": {
    "collapsed": true
   },
   "outputs": [],
   "source": []
  },
  {
   "cell_type": "code",
   "execution_count": null,
   "metadata": {
    "collapsed": true
   },
   "outputs": [],
   "source": []
  },
  {
   "cell_type": "code",
   "execution_count": null,
   "metadata": {
    "collapsed": true
   },
   "outputs": [],
   "source": []
  },
  {
   "cell_type": "code",
   "execution_count": null,
   "metadata": {
    "collapsed": true
   },
   "outputs": [],
   "source": []
  },
  {
   "cell_type": "code",
   "execution_count": null,
   "metadata": {
    "collapsed": true
   },
   "outputs": [],
   "source": []
  },
  {
   "cell_type": "code",
   "execution_count": null,
   "metadata": {
    "collapsed": true
   },
   "outputs": [],
   "source": []
  },
  {
   "cell_type": "code",
   "execution_count": null,
   "metadata": {
    "collapsed": true
   },
   "outputs": [],
   "source": []
  }
 ],
 "metadata": {
  "anaconda-cloud": {},
  "kernelspec": {
   "display_name": "Python [Root]",
   "language": "python",
   "name": "Python [Root]"
  },
  "language_info": {
   "codemirror_mode": {
    "name": "ipython",
    "version": 3
   },
   "file_extension": ".py",
   "mimetype": "text/x-python",
   "name": "python",
   "nbconvert_exporter": "python",
   "pygments_lexer": "ipython3",
   "version": "3.5.2"
  }
 },
 "nbformat": 4,
 "nbformat_minor": 0
}
