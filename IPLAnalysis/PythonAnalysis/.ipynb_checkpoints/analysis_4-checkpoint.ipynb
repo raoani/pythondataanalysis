{
 "cells": [
  {
   "cell_type": "code",
   "execution_count": 1,
   "metadata": {
    "collapsed": true
   },
   "outputs": [],
   "source": [
    "import numpy as np\n",
    "from datetime import datetime\n",
    "import os\n",
    "import sys\n",
    "import glob\n",
    "import pandas as pd\n",
    "import matplotlib.pyplot as plt\n",
    "import seaborn as sns\n",
    "%matplotlib inline\n",
    "from scipy.misc import imread"
   ]
  },
  {
   "cell_type": "code",
   "execution_count": 3,
   "metadata": {
    "collapsed": true
   },
   "outputs": [],
   "source": [
    "dict_1 = {}\n",
    "dict_2 = {}\n",
    "batting_team = 'Royal Challengers Bangalore'\n",
    "x = glob.glob(r'C:\\Users\\aniru\\Desktop\\Season\\*.csv')\n",
    "l = []"
   ]
  },
  {
   "cell_type": "code",
   "execution_count": 2,
   "metadata": {
    "collapsed": false
   },
   "outputs": [],
   "source": [
    "def analysis_3 (df1,j) :\n",
    "    match_id = df1.match_id.unique().tolist()\n",
    "    df1 = df1.set_index(['match_id'] , drop = False)\n",
    "#df2 = df1.set_index(['match_id'] ) #drop = False)\n",
    "#df1['final_score'] = sum(df1['total_runs'])\n",
    "    appended_data = []\n",
    "    for i in match_id :\n",
    "        df2 = df1[df1['match_id'] == i]\n",
    "        df2 = df2[['batting_team','total_runs','winner','season','match_id']]\n",
    "        df2['total_score'] = sum(df2['total_runs'])\n",
    "        df2 = df2[['batting_team','total_score','winner','season','match_id']].drop_duplicates()\n",
    "        appended_data.append(df2)\n",
    "    df3 = pd.concat(appended_data, axis=0)\n",
    "    df3 = df3[df3['total_score'] > j]\n",
    "    length = len(df3.match_id.unique().tolist())\n",
    "    df3 = df3[['batting_team','total_score','winner','season']]\n",
    "    if length != 0 :\n",
    "        df3 = df3[df3['winner'] == batting_team]\n",
    "        df3 = df3.reset_index()\n",
    "        df3['percentage_above_' + str(j) + '_and_won'] = round(len(df3['match_id'].unique().tolist())/length*100)\n",
    "        df3 = df3[['batting_team','season','percentage_above_' + str(j) + '_and_won']].drop_duplicates().set_index(['season'])\n",
    "        return df3"
   ]
  },
  {
   "cell_type": "code",
   "execution_count": 3,
   "metadata": {
    "collapsed": false
   },
   "outputs": [
    {
     "data": {
      "text/html": [
       "<div>\n",
       "<table border=\"1\" class=\"dataframe\">\n",
       "  <thead>\n",
       "    <tr style=\"text-align: right;\">\n",
       "      <th></th>\n",
       "      <th>season</th>\n",
       "      <th>batting_team</th>\n",
       "      <th>percentage_above_150_and_won</th>\n",
       "    </tr>\n",
       "  </thead>\n",
       "  <tbody>\n",
       "    <tr>\n",
       "      <th>0</th>\n",
       "      <td>2008</td>\n",
       "      <td>Chennai Super Kings</td>\n",
       "      <td>60</td>\n",
       "    </tr>\n",
       "    <tr>\n",
       "      <th>1</th>\n",
       "      <td>2009</td>\n",
       "      <td>Chennai Super Kings</td>\n",
       "      <td>67</td>\n",
       "    </tr>\n",
       "    <tr>\n",
       "      <th>2</th>\n",
       "      <td>2010</td>\n",
       "      <td>Chennai Super Kings</td>\n",
       "      <td>70</td>\n",
       "    </tr>\n",
       "    <tr>\n",
       "      <th>3</th>\n",
       "      <td>2011</td>\n",
       "      <td>Chennai Super Kings</td>\n",
       "      <td>80</td>\n",
       "    </tr>\n",
       "    <tr>\n",
       "      <th>4</th>\n",
       "      <td>2012</td>\n",
       "      <td>Chennai Super Kings</td>\n",
       "      <td>70</td>\n",
       "    </tr>\n",
       "    <tr>\n",
       "      <th>5</th>\n",
       "      <td>2013</td>\n",
       "      <td>Chennai Super Kings</td>\n",
       "      <td>100</td>\n",
       "    </tr>\n",
       "    <tr>\n",
       "      <th>6</th>\n",
       "      <td>2014</td>\n",
       "      <td>Chennai Super Kings</td>\n",
       "      <td>50</td>\n",
       "    </tr>\n",
       "    <tr>\n",
       "      <th>7</th>\n",
       "      <td>2015</td>\n",
       "      <td>Chennai Super Kings</td>\n",
       "      <td>45</td>\n",
       "    </tr>\n",
       "  </tbody>\n",
       "</table>\n",
       "</div>"
      ],
      "text/plain": [
       "   season         batting_team  percentage_above_150_and_won\n",
       "0    2008  Chennai Super Kings                            60\n",
       "1    2009  Chennai Super Kings                            67\n",
       "2    2010  Chennai Super Kings                            70\n",
       "3    2011  Chennai Super Kings                            80\n",
       "4    2012  Chennai Super Kings                            70\n",
       "5    2013  Chennai Super Kings                           100\n",
       "6    2014  Chennai Super Kings                            50\n",
       "7    2015  Chennai Super Kings                            45"
      ]
     },
     "execution_count": 3,
     "metadata": {},
     "output_type": "execute_result"
    }
   ],
   "source": [
    "dict_1 = {}\n",
    "dict_2 = {}\n",
    "batting_team = 'Chennai Super Kings'\n",
    "x = glob.glob(r'C:\\Users\\aniru\\Desktop\\Season\\*.csv')\n",
    "l = []\n",
    "j = 150\n",
    "for i in x :\n",
    "        df = pd.read_csv(i)\n",
    "        if batting_team in df.batting_team.unique().tolist() :\n",
    "            df1 = df[df['batting_team'] == batting_team]\n",
    "            df1 = analysis_3(df1,j)\n",
    "            l.append(df1)\n",
    "df4 = pd.concat(l, axis=0)\n",
    "df4 = df4.reset_index(drop = False)\n",
    "df4"
   ]
  },
  {
   "cell_type": "code",
   "execution_count": 10,
   "metadata": {
    "collapsed": false
   },
   "outputs": [
    {
     "data": {
      "image/png": "[encoded data removed]",
      "text/plain": [
       "<matplotlib.figure.Figure at 0x21d8c2e5048>"
      ]
     },
     "metadata": {},
     "output_type": "display_data"
    }
   ],
   "source": [
    "plt.subplots(figsize=(20,8))\n",
    "ax = sns.barplot(x='season',y='percentage_above_'+str(j)+'_and_won',data=df4, color = '#599ad3')\n",
    "ax.set(title = 'Number of times above' + batting_team + ' and won the game (Percentage)')\n",
    "plt.savefig('foo3.png')\n",
    "sns.set_style('whitegrid')"
   ]
  },
  {
   "cell_type": "code",
   "execution_count": null,
   "metadata": {
    "collapsed": true
   },
   "outputs": [],
   "source": []
  },
  {
   "cell_type": "code",
   "execution_count": null,
   "metadata": {
    "collapsed": true
   },
   "outputs": [],
   "source": []
  },
  {
   "cell_type": "code",
   "execution_count": null,
   "metadata": {
    "collapsed": true
   },
   "outputs": [],
   "source": []
  },
  {
   "cell_type": "code",
   "execution_count": null,
   "metadata": {
    "collapsed": true
   },
   "outputs": [],
   "source": []
  },
  {
   "cell_type": "code",
   "execution_count": null,
   "metadata": {
    "collapsed": true
   },
   "outputs": [],
   "source": []
  },
  {
   "cell_type": "code",
   "execution_count": null,
   "metadata": {
    "collapsed": true
   },
   "outputs": [],
   "source": []
  }
 ],
 "metadata": {
  "anaconda-cloud": {},
  "kernelspec": {
   "display_name": "Python [Root]",
   "language": "python",
   "name": "Python [Root]"
  },
  "language_info": {
   "codemirror_mode": {
    "name": "ipython",
    "version": 3
   },
   "file_extension": ".py",
   "mimetype": "text/x-python",
   "name": "python",
   "nbconvert_exporter": "python",
   "pygments_lexer": "ipython3",
   "version": "3.5.2"
  }
 },
 "nbformat": 4,
 "nbformat_minor": 0
}
