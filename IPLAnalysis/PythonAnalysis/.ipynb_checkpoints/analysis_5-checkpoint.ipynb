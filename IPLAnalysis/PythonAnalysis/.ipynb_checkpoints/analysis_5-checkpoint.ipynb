{
 "cells": [
  {
   "cell_type": "code",
   "execution_count": 8,
   "metadata": {
    "collapsed": false
   },
   "outputs": [
    {
     "data": {
      "text/plain": [
       "[<matplotlib.text.Text at 0x217526e1f60>,\n",
       " <matplotlib.text.Text at 0x2175240f898>,\n",
       " <matplotlib.text.Text at 0x217526e6400>]"
      ]
     },
     "execution_count": 8,
     "metadata": {},
     "output_type": "execute_result"
    },
    {
     "data": {
      "image/png": "[encoded data removed]",
      "text/plain": [
       "<matplotlib.figure.Figure at 0x217526b6668>"
      ]
     },
     "metadata": {},
     "output_type": "display_data"
    }
   ],
   "source": [
    "import numpy as np\n",
    "from datetime import datetime\n",
    "import os\n",
    "import sys\n",
    "import glob\n",
    "import pandas as pd\n",
    "import matplotlib.pyplot as plt\n",
    "import seaborn as sns\n",
    "#%matplotlib inline\n",
    "import argparse\n",
    "parser = argparse.ArgumentParser()\n",
    "parser.add_argument(\"--Team\", help=\"provide a search term, latitude, longitude and radius\")\n",
    "#parser.add_argument(\"--location\", help=\"provide a search term, latitude, longitude and radius\")\n",
    "args = parser.parse_args()\n",
    "batting_team = args.Team\n",
    "dict_1 = {}\n",
    "dict_2 = {}\n",
    "batting_team = 'Deccan Chargers'\n",
    "x = glob.glob(r'C:\\Users\\aniru\\Desktop\\Season\\*.csv')\n",
    "appended_data = []\n",
    "for g in  x :\n",
    "    df1 = pd.read_csv(g)\n",
    "    if batting_team in df1.batting_team.unique() : \n",
    "        df2 = priliminary_analysis(df1, batting_team)\n",
    "        appended_data.append(df2)\n",
    "appended_data = pd.concat(appended_data, axis=0)\n",
    "appended_data.set_index(['season'] )\n",
    "appended_data\n",
    "df3 = appended_data.loc[6]\n",
    "df4 = appended_data.loc[20]\n",
    "#store each in a CSV and then Plo\n",
    "df1 = appended_data.reset_index(drop = False)\n",
    "df1 = df1[np.isfinite(df1['runs_according_to_powerplay'])]\n",
    "ax = sns.pointplot(x=\"over\", y=\"runs_according_to_powerplay\", hue=\"season\",\n",
    "                    data=df1)\n",
    "ax.set(xlabel = 'Average power play runs per season' , ylabel = 'Overs' , title = 'Runs during and after powerplay : ' + batting_team)\n",
    "plt.savefig('foo4.png')"
   ]
  },
  {
   "cell_type": "code",
   "execution_count": 1,
   "metadata": {
    "collapsed": true
   },
   "outputs": [],
   "source": [
    "def priliminary_analysis(s_8, batting_team) :\n",
    "    s_10 = 0\n",
    "    s_11 = 0\n",
    "    s_8 = s_8[s_8['dl_applied']==0]\n",
    "    s_8 = s_8.set_index(['batting_team'] , drop = False)\n",
    "    s_8 = s_8[s_8['batting_team'] == batting_team]\n",
    "    s_8 = s_8.set_index(['over'] , drop = False)\n",
    "    s_9 = s_8.set_index(['over'] , drop = False)\n",
    "    x = len(s_8.match_id.unique())\n",
    "    a = s_9.over.unique().tolist()\n",
    "    for k in a[:6] :\n",
    "        s_10 = s_10 + round(sum(s_8[s_8['over']==k]['batsman_runs'])/x) #+ round(sum(s_8[s_8['over']==k+ 1]['batsman_runs'])/x) + round(sum(s_8[s_8['over']==k +2 ]['batsman_runs'])/x) + round(sum(s_8[s_8['over']==k+3]['batsman_runs'])/x)+round(sum(s_8[s_8['over']==k+4]['batsman_runs'])/x)\n",
    "        s_9.loc[6,'runs_according_to_powerplay'] = s_10  \n",
    "        #dict_3[j] = [sum(z[:5]) , sum(z[5:10]) , sum(z[10:15]) , sum(z[15:20])\n",
    "    for j in a[6:] :\n",
    "        s_11 = s_11 + round(sum(s_8[s_8['over']==k]['batsman_runs'])/x) #+ round(sum(s_8[s_8['over']==k+ 1]['batsman_runs'])/x) + round(sum(s_8[s_8['over']==k +2 ]['batsman_runs'])/x) + round(sum(s_8[s_8['over']==k+3]['batsman_runs'])/x)+round(sum(s_8[s_8['over']==k+4]['batsman_runs'])/x)\n",
    "        s_9.loc[20,'runs_according_to_powerplay'] = s_11  \n",
    "    s_9 = s_9[s_9['runs_according_to_powerplay']!=0]\n",
    "    s_9 = s_9[['season','runs_according_to_powerplay']].drop_duplicates()\n",
    "    return(s_9)\n",
    "#Arrange the combined file into seasons, divide the file into different season, use the abpve function and try to plot. Link : http://people.duke.edu/~ccc14/pcfb/numpympl/MatplotlibBarPlots.html"
   ]
  },
  {
   "cell_type": "code",
   "execution_count": null,
   "metadata": {
    "collapsed": true
   },
   "outputs": [],
   "source": []
  },
  {
   "cell_type": "code",
   "execution_count": null,
   "metadata": {
    "collapsed": true
   },
   "outputs": [],
   "source": []
  },
  {
   "cell_type": "code",
   "execution_count": null,
   "metadata": {
    "collapsed": true
   },
   "outputs": [],
   "source": []
  },
  {
   "cell_type": "code",
   "execution_count": null,
   "metadata": {
    "collapsed": true
   },
   "outputs": [],
   "source": []
  },
  {
   "cell_type": "code",
   "execution_count": null,
   "metadata": {
    "collapsed": true
   },
   "outputs": [],
   "source": []
  },
  {
   "cell_type": "code",
   "execution_count": null,
   "metadata": {
    "collapsed": true
   },
   "outputs": [],
   "source": []
  },
  {
   "cell_type": "code",
   "execution_count": null,
   "metadata": {
    "collapsed": true
   },
   "outputs": [],
   "source": []
  },
  {
   "cell_type": "code",
   "execution_count": null,
   "metadata": {
    "collapsed": true
   },
   "outputs": [],
   "source": []
  },
  {
   "cell_type": "code",
   "execution_count": null,
   "metadata": {
    "collapsed": true
   },
   "outputs": [],
   "source": []
  },
  {
   "cell_type": "code",
   "execution_count": null,
   "metadata": {
    "collapsed": true
   },
   "outputs": [],
   "source": []
  }
 ],
 "metadata": {
  "anaconda-cloud": {},
  "kernelspec": {
   "display_name": "Python [Root]",
   "language": "python",
   "name": "Python [Root]"
  },
  "language_info": {
   "codemirror_mode": {
    "name": "ipython",
    "version": 3
   },
   "file_extension": ".py",
   "mimetype": "text/x-python",
   "name": "python",
   "nbconvert_exporter": "python",
   "pygments_lexer": "ipython3",
   "version": "3.5.2"
  }
 },
 "nbformat": 4,
 "nbformat_minor": 0
}
