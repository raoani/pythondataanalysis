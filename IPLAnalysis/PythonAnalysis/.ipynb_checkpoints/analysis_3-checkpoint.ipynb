{
 "cells": [
  {
   "cell_type": "code",
   "execution_count": 7,
   "metadata": {
    "collapsed": true
   },
   "outputs": [],
   "source": [
    "import numpy as np\n",
    "from datetime import datetime\n",
    "import os\n",
    "import sys\n",
    "import glob\n",
    "import pandas as pd\n",
    "import matplotlib.pyplot as plt\n",
    "import seaborn as sns\n",
    "%matplotlib inline"
   ]
  },
  {
   "cell_type": "code",
   "execution_count": 39,
   "metadata": {
    "collapsed": false
   },
   "outputs": [],
   "source": [
    "dict_1 = {}\n",
    "dict_2 = {}\n",
    "#batting_team = 'Royal Challengers Bangalore'\n",
    "x = glob.glob(r'C:\\Users\\aniru\\Desktop\\Season\\*.csv')\n",
    "l = []\n",
    "matches = pd.read_csv(r'C:\\Users\\aniru\\Desktop\\matches.csv')\n",
    "matches.rename(columns={'id': 'match_id'}, inplace=True)\n",
    "deliveries = pd.read_csv(r'C:\\Users\\aniru\\Desktop\\deliveries.csv')\n",
    "df1 = pd.merge(matches, deliveries, on = 'match_id', how = 'outer')\n",
    "a = df1.batsman.unique().tolist()\n",
    "df1['total_batsman'] = 0\n",
    "df1 = df1.set_index(['batsman'], drop = False)\n",
    "for i in a :\n",
    "    df2 = df1[df1['batsman'] == i ]\n",
    "    df1.loc[i,'total_batsman'] = sum(df2['batsman_runs'])\n",
    "df3 = df1[['batsman' , 'total_batsman']]\n",
    "df3 = df3.drop_duplicates(['batsman'])\n",
    "df4 = df3.sort_values(by = ['total_batsman'], ascending= False)\n",
    "df4 = df4.reset_index(drop=True)\n",
    "a = df4.batsman.unique().tolist()[0]\n"
   ]
  },
  {
   "cell_type": "code",
   "execution_count": 25,
   "metadata": {
    "collapsed": true
   },
   "outputs": [],
   "source": [
    "def analysis (df5, a) :\n",
    "    y = df5[df5['batsman']==a]['batting_team'].unique()[0]\n",
    "#y = df6.iloc[0]['batting_team']\n",
    "    df5 = df5[df5['batting_team']==y]\n",
    "    df5 = df5.set_index('batting_team' , drop=False)\n",
    "#y\n",
    "    batsman_runs = sum(df5[df5['batsman']==a]['batsman_runs'])\n",
    "    team_runs = sum(df5['batsman_runs'])\n",
    "    percentage_runs = round(batsman_runs/team_runs*100)\n",
    "    df5.loc[y,'total_runs_by_'+a] = sum(df5[df5['batsman']==a]['batsman_runs'])\n",
    "    df5.loc[y, 'total_runs_by_team'] = sum(df5['batsman_runs'])\n",
    "    df5.loc[y,'percentage_runs_by_'+a] = percentage_runs\n",
    "    df5 = df5[['season','total_runs_by_team','total_runs_by_'+a,'percentage_runs_by_'+a]].drop_duplicates()\n",
    "    return df5 "
   ]
  },
  {
   "cell_type": "code",
   "execution_count": 40,
   "metadata": {
    "collapsed": false
   },
   "outputs": [
    {
     "data": {
      "text/html": [
       "<div>\n",
       "<table border=\"1\" class=\"dataframe\">\n",
       "  <thead>\n",
       "    <tr style=\"text-align: right;\">\n",
       "      <th></th>\n",
       "      <th>total_runs_by_team</th>\n",
       "      <th>total_runs_by_V Kohli</th>\n",
       "      <th>percentage_runs_by_V Kohli</th>\n",
       "    </tr>\n",
       "    <tr>\n",
       "      <th>season</th>\n",
       "      <th></th>\n",
       "      <th></th>\n",
       "      <th></th>\n",
       "    </tr>\n",
       "  </thead>\n",
       "  <tbody>\n",
       "    <tr>\n",
       "      <th>2008</th>\n",
       "      <td>1865</td>\n",
       "      <td>165</td>\n",
       "      <td>9.0</td>\n",
       "    </tr>\n",
       "    <tr>\n",
       "      <th>2009</th>\n",
       "      <td>2166</td>\n",
       "      <td>246</td>\n",
       "      <td>11.0</td>\n",
       "    </tr>\n",
       "    <tr>\n",
       "      <th>2010</th>\n",
       "      <td>2272</td>\n",
       "      <td>307</td>\n",
       "      <td>14.0</td>\n",
       "    </tr>\n",
       "    <tr>\n",
       "      <th>2011</th>\n",
       "      <td>2325</td>\n",
       "      <td>557</td>\n",
       "      <td>24.0</td>\n",
       "    </tr>\n",
       "    <tr>\n",
       "      <th>2012</th>\n",
       "      <td>2351</td>\n",
       "      <td>364</td>\n",
       "      <td>15.0</td>\n",
       "    </tr>\n",
       "    <tr>\n",
       "      <th>2013</th>\n",
       "      <td>2460</td>\n",
       "      <td>639</td>\n",
       "      <td>26.0</td>\n",
       "    </tr>\n",
       "    <tr>\n",
       "      <th>2014</th>\n",
       "      <td>1992</td>\n",
       "      <td>359</td>\n",
       "      <td>18.0</td>\n",
       "    </tr>\n",
       "    <tr>\n",
       "      <th>2015</th>\n",
       "      <td>2190</td>\n",
       "      <td>505</td>\n",
       "      <td>23.0</td>\n",
       "    </tr>\n",
       "    <tr>\n",
       "      <th>2016</th>\n",
       "      <td>2863</td>\n",
       "      <td>973</td>\n",
       "      <td>34.0</td>\n",
       "    </tr>\n",
       "  </tbody>\n",
       "</table>\n",
       "</div>"
      ],
      "text/plain": [
       "        total_runs_by_team  total_runs_by_V Kohli  percentage_runs_by_V Kohli\n",
       "season                                                                       \n",
       "2008                  1865                    165                         9.0\n",
       "2009                  2166                    246                        11.0\n",
       "2010                  2272                    307                        14.0\n",
       "2011                  2325                    557                        24.0\n",
       "2012                  2351                    364                        15.0\n",
       "2013                  2460                    639                        26.0\n",
       "2014                  1992                    359                        18.0\n",
       "2015                  2190                    505                        23.0\n",
       "2016                  2863                    973                        34.0"
      ]
     },
     "execution_count": 40,
     "metadata": {},
     "output_type": "execute_result"
    }
   ],
   "source": [
    "x = glob.glob(r'C:\\Users\\aniru\\Desktop\\Season\\*.csv')\n",
    "appended_data = []\n",
    "for i in x :\n",
    "    df5 = pd.read_csv(i)\n",
    "    df5= analysis(df5, a)\n",
    "    appended_data.append(df5)\n",
    "appended_data = pd.concat(appended_data, axis=0)\n",
    "appended_data.set_index(['season'])"
   ]
  },
  {
   "cell_type": "code",
   "execution_count": 41,
   "metadata": {
    "collapsed": false
   },
   "outputs": [
    {
     "data": {
      "text/plain": [
       "[<matplotlib.text.Text at 0x24f28a7bfd0>,\n",
       " <matplotlib.text.Text at 0x24f309b4048>,\n",
       " <matplotlib.text.Text at 0x24f28a67240>]"
      ]
     },
     "execution_count": 41,
     "metadata": {},
     "output_type": "execute_result"
    },
    {
     "data": {
      "image/png": "[encoded data removed]",
      "text/plain": [
       "<matplotlib.figure.Figure at 0x24f2ebbb828>"
      ]
     },
     "metadata": {},
     "output_type": "display_data"
    }
   ],
   "source": [
    "fig = plt.figure() \n",
    "sns.barplot(x =appended_data.season , y = appended_data['total_runs_by_team'] , color = \"red\")\n",
    "bottom_plot = sns.barplot(x = appended_data.season, y = appended_data['total_runs_by_' + a], color = \"#0000A3\")\n",
    "bottom_plot.set(xlabel='Seasons', ylabel='Total runs by team and ' + a, title = 'Runs Scored by ' + a + ' through all seasons')\n",
    "red_patch = mpatches.Patch(color='red', label='Total Runs By a Team')\n",
    "blue_patch  = mpatches.Patch(colour = 'blue' , label = 'Runs by ')"
   ]
  },
  {
   "cell_type": "code",
   "execution_count": null,
   "metadata": {
    "collapsed": true
   },
   "outputs": [],
   "source": []
  },
  {
   "cell_type": "code",
   "execution_count": null,
   "metadata": {
    "collapsed": true
   },
   "outputs": [],
   "source": []
  },
  {
   "cell_type": "code",
   "execution_count": null,
   "metadata": {
    "collapsed": true
   },
   "outputs": [],
   "source": []
  },
  {
   "cell_type": "code",
   "execution_count": null,
   "metadata": {
    "collapsed": true
   },
   "outputs": [],
   "source": []
  },
  {
   "cell_type": "code",
   "execution_count": null,
   "metadata": {
    "collapsed": true
   },
   "outputs": [],
   "source": []
  },
  {
   "cell_type": "code",
   "execution_count": null,
   "metadata": {
    "collapsed": true
   },
   "outputs": [],
   "source": []
  }
 ],
 "metadata": {
  "kernelspec": {
   "display_name": "Python [Root]",
   "language": "python",
   "name": "Python [Root]"
  },
  "language_info": {
   "codemirror_mode": {
    "name": "ipython",
    "version": 3
   },
   "file_extension": ".py",
   "mimetype": "text/x-python",
   "name": "python",
   "nbconvert_exporter": "python",
   "pygments_lexer": "ipython3",
   "version": "3.5.2"
  }
 },
 "nbformat": 4,
 "nbformat_minor": 0
}
