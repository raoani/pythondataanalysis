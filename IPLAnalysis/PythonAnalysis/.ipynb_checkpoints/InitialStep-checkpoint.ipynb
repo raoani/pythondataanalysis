{
 "cells": [
  {
   "cell_type": "code",
   "execution_count": 1,
   "metadata": {
    "collapsed": true
   },
   "outputs": [],
   "source": [
    "import pandas as pd\n",
    "import numpy as np\n",
    "from datetime import datetime\n",
    "import os\n",
    "import sys\n",
    "\n",
    "matches = pd.read_csv(r'C:\\Users\\aniru\\Desktop\\matches.csv')\n",
    "matches.rename(columns={'id': 'match_id'}, inplace=True)"
   ]
  },
  {
   "cell_type": "code",
   "execution_count": 2,
   "metadata": {
    "collapsed": true
   },
   "outputs": [],
   "source": [
    "deliveries = pd.read_csv(r'C:\\Users\\aniru\\Desktop\\deliveries.csv')"
   ]
  },
  {
   "cell_type": "code",
   "execution_count": 16,
   "metadata": {
    "collapsed": true
   },
   "outputs": [],
   "source": [
    "def creating_newpath(newpath) : #Creates a new path for every file or checks if it exsists.\n",
    "    if not os.path.exists(newpath):\n",
    "        os.makedirs(newpath)\n",
    "        newpath1 = os.path.join(newpath)\n",
    "        return newpath1\n",
    "    else :\n",
    "        newpath1 = os.path.join(newpath)\n",
    "        return newpath1"
   ]
  },
  {
   "cell_type": "code",
   "execution_count": 17,
   "metadata": {
    "collapsed": false
   },
   "outputs": [],
   "source": [
    "newpath = os.path.join(r'C:\\Users\\aniru\\Desktop' , \"Seasons\")\n",
    "newpath1 = creating_newpath(newpath)"
   ]
  },
  {
   "cell_type": "code",
   "execution_count": null,
   "metadata": {
    "collapsed": true
   },
   "outputs": [],
   "source": []
  },
  {
   "cell_type": "code",
   "execution_count": null,
   "metadata": {
    "collapsed": true
   },
   "outputs": [],
   "source": []
  },
  {
   "cell_type": "code",
   "execution_count": 18,
   "metadata": {
    "collapsed": false
   },
   "outputs": [],
   "source": [
    "combined = pd.merge(matches, deliveries, on = 'match_id', how = 'outer')           #merge the datas on the key = match_id\n",
    "combined.season.value_counts()\n",
    "combined.to_csv((os.path.join(newpath,'combined.csv')))\n",
    "season_list = combined.season.unique().tolist()\n",
    "season_list\n",
    "combined.set_index(keys=['season'], drop=False,inplace=True)\n",
    "j = 1\n",
    "for i in season_list :                                 #splitting the combined data into different seasons\n",
    "    year = combined.loc[combined['season']== i]\n",
    "    year.to_csv(os.path.join(newpath,'season_' + str(j) + '.csv'))\n",
    "    j = j + 1\n"
   ]
  },
  {
   "cell_type": "code",
   "execution_count": null,
   "metadata": {
    "collapsed": true
   },
   "outputs": [],
   "source": []
  },
  {
   "cell_type": "code",
   "execution_count": null,
   "metadata": {
    "collapsed": true
   },
   "outputs": [],
   "source": []
  },
  {
   "cell_type": "code",
   "execution_count": null,
   "metadata": {
    "collapsed": true
   },
   "outputs": [],
   "source": []
  },
  {
   "cell_type": "code",
   "execution_count": null,
   "metadata": {
    "collapsed": true
   },
   "outputs": [],
   "source": []
  },
  {
   "cell_type": "code",
   "execution_count": null,
   "metadata": {
    "collapsed": true
   },
   "outputs": [],
   "source": []
  },
  {
   "cell_type": "code",
   "execution_count": null,
   "metadata": {
    "collapsed": true
   },
   "outputs": [],
   "source": []
  }
 ],
 "metadata": {
  "anaconda-cloud": {},
  "kernelspec": {
   "display_name": "Python [Root]",
   "language": "python",
   "name": "Python [Root]"
  },
  "language_info": {
   "codemirror_mode": {
    "name": "ipython",
    "version": 3
   },
   "file_extension": ".py",
   "mimetype": "text/x-python",
   "name": "python",
   "nbconvert_exporter": "python",
   "pygments_lexer": "ipython3",
   "version": "3.5.2"
  }
 },
 "nbformat": 4,
 "nbformat_minor": 0
}
