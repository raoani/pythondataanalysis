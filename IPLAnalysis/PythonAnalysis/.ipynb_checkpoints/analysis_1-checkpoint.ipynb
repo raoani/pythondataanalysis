{
 "cells": [
  {
   "cell_type": "code",
   "execution_count": 2,
   "metadata": {
    "collapsed": true
   },
   "outputs": [],
   "source": [
    "import matplotlib.pyplot as plt\n",
    "import seaborn as sns\n",
    "%matplotlib inline\n",
    "from scipy.misc import imread"
   ]
  },
  {
   "cell_type": "code",
   "execution_count": 8,
   "metadata": {
    "collapsed": false
   },
   "outputs": [
    {
     "data": {
      "image/png": "[encoded data removed]",
      "text/plain": [
       "<matplotlib.figure.Figure at 0x1b384010f98>"
      ]
     },
     "metadata": {},
     "output_type": "display_data"
    }
   ],
   "source": [
    "import numpy as np\n",
    "from datetime import datetime\n",
    "import os\n",
    "import sys\n",
    "import glob\n",
    "import pandas as pd\n",
    "import argparse\n",
    "#parser = argparse.ArgumentParser()\n",
    "#parser.add_argument(\"--Team\", help=\"provide a search term, latitude, longitude and radius\")\n",
    "#parser.add_argument(\"--location\", help=\"provide a search term, latitude, longitude and radius\")\n",
    "#args = parser.parse_args()\n",
    "batting_team = 'Royal Challengers Bangalore'\n",
    "dict_1 = {}\n",
    "dict_2 = {}\n",
    "#d = {'Royal Challengers Bangalore' : ,\"Mumbai Indians\" : , \"Chennai Super Kings\" : , \"Deccan Chargers \": , \"Rising Pune Supergiants \":}\n",
    "x = glob.glob(r'C:\\Users\\aniru\\Desktop\\Season\\*.csv')\n",
    "appended_data = []\n",
    "for g in  x :\n",
    "    df1 = pd.read_csv(g)\n",
    "    if batting_team in df1['batting_team'].unique().tolist() :           #check if the team has played the particular season\n",
    "        df2 = analysis_3(df1, batting_team)\n",
    "        appended_data.append(df2)\n",
    "appended_data = pd.concat(appended_data, axis=0)\n",
    "appended_data = appended_data.reset_index()\n",
    "appended_data = appended_data.set_index(['over'])\n",
    "a = appended_data['total_wickets'].reset_index()\n",
    "b = a['total_wickets'].tolist()\n",
    "fig = plt.figure() \n",
    "ax = fig.add_subplot(1, 1, 1)\n",
    "ax.hist(b, bins=20, color='#1888D7')\n",
    "ax.set_xlabel('over')\n",
    "ax.set_ylabel('Total Wickets Fallen')\n",
    "plt.xlim(1,20)\n",
    "plt.ylim(1,100)\n",
    "ax.set_title('Fall of wickets ranging all seasons :' + batting_team)\n",
    "sns.set_style(\"whitegrid\")"
   ]
  },
  {
   "cell_type": "code",
   "execution_count": 1,
   "metadata": {
    "collapsed": true
   },
   "outputs": [],
   "source": [
    "def analysis_3( df, batting_team ) :                            #Performs analysis on the data. Accepts a team name. \n",
    "    df = df[df['batting_team'] == batting_team]\n",
    "    l = []\n",
    "    for j in df.over.unique().tolist() :                        #gets data for a over\n",
    "        df2 = df[df['over'] == j]                                 \n",
    "        df2 = df2.set_index(['over'] , drop = True)           \n",
    "        df2 = df2[['season','batting_team', 'player_dismissed' , 'dismissal_kind']]\n",
    "        df2['player_dismissed'].fillna(0, inplace=True)         #fill NaNs with 0\n",
    "        #df2['dismissal_kind'].fillna(0, inplace=True)\n",
    "         #df2['dismissal_kind'].fillna(0, inplace=True)\n",
    "        df2 = df2[df2['player_dismissed'] != 0]                # extract data if only a palyer is dismissed. \n",
    "        #df2.loc[j,'run_outs'] = len(df2[df2['dismissal_kind'] == 'run out'])\n",
    "        #df2.loc[j,'total_wickets'] = len(df2[df2['player_dismissed'] != 0])\n",
    "        df2.loc[j,'total_wickets'] = j                        #create a coloumn called total_wickets and place the over at which the wicket fell.\n",
    "        df2 = df2[['season' , 'batting_team' , 'total_wickets']]\n",
    "        l.append(df2)                                         #append it to l\n",
    "    l = pd.concat(l, axis=0)                                  #get for all overs. \n",
    "    return l"
   ]
  },
  {
   "cell_type": "code",
   "execution_count": null,
   "metadata": {
    "collapsed": true
   },
   "outputs": [],
   "source": []
  },
  {
   "cell_type": "code",
   "execution_count": null,
   "metadata": {
    "collapsed": true
   },
   "outputs": [],
   "source": []
  },
  {
   "cell_type": "code",
   "execution_count": null,
   "metadata": {
    "collapsed": true
   },
   "outputs": [],
   "source": []
  },
  {
   "cell_type": "code",
   "execution_count": null,
   "metadata": {
    "collapsed": true
   },
   "outputs": [],
   "source": []
  },
  {
   "cell_type": "code",
   "execution_count": null,
   "metadata": {
    "collapsed": true
   },
   "outputs": [],
   "source": []
  },
  {
   "cell_type": "code",
   "execution_count": null,
   "metadata": {
    "collapsed": true
   },
   "outputs": [],
   "source": []
  },
  {
   "cell_type": "code",
   "execution_count": null,
   "metadata": {
    "collapsed": true
   },
   "outputs": [],
   "source": []
  },
  {
   "cell_type": "code",
   "execution_count": null,
   "metadata": {
    "collapsed": true
   },
   "outputs": [],
   "source": []
  }
 ],
 "metadata": {
  "anaconda-cloud": {},
  "kernelspec": {
   "display_name": "Python [Root]",
   "language": "python",
   "name": "Python [Root]"
  },
  "language_info": {
   "codemirror_mode": {
    "name": "ipython",
    "version": 3
   },
   "file_extension": ".py",
   "mimetype": "text/x-python",
   "name": "python",
   "nbconvert_exporter": "python",
   "pygments_lexer": "ipython3",
   "version": "3.5.2"
  }
 },
 "nbformat": 4,
 "nbformat_minor": 0
}
