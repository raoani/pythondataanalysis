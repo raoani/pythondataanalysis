{
 "cells": [
  {
   "cell_type": "code",
   "execution_count": 91,
   "metadata": {
    "collapsed": false
   },
   "outputs": [],
   "source": [
    "import pandas as pd\n",
    "import numpy as np\n",
    "from datetime import datetime\n",
    "import os\n",
    "import sys\n",
    "\n",
    "matches = pd.read_csv(r'C:\\Users\\aniru\\Desktop\\matches.csv')\n",
    "matches.rename(columns={'id': 'match_id'}, inplace=True)"
   ]
  },
  {
   "cell_type": "code",
   "execution_count": 92,
   "metadata": {
    "collapsed": false,
    "scrolled": false
   },
   "outputs": [],
   "source": [
    "matches.season.value_counts()\n",
    "season_list = matches.season.unique().tolist()\n",
    "season_list\n",
    "matches.set_index(keys=['season'], drop=False,inplace=True)\n"
   ]
  },
  {
   "cell_type": "code",
   "execution_count": 98,
   "metadata": {
    "collapsed": false
   },
   "outputs": [
    {
     "data": {
      "text/plain": [
       "Rajasthan Royals    14\n",
       "dtype: int64"
      ]
     },
     "execution_count": 98,
     "metadata": {},
     "output_type": "execute_result"
    }
   ],
   "source": [
    "year = matches.loc[matches['season']== 2015]\n",
    "year_1 = year[year['team1']=='Rajasthan Royals']['team1'].value_counts()\n",
    "year_2 = year[year['team2'] == 'Rajasthan Royals']['team2'].value_counts()\n",
    "year_wins = year[year['city']=='Delhi']['winner'].value_counts()\n",
    "year_sum = year_1 + year_2\n",
    "\n",
    "year_wins\n",
    "year_1\n",
    "year_sum"
   ]
  },
  {
   "cell_type": "code",
   "execution_count": 102,
   "metadata": {
    "collapsed": false
   },
   "outputs": [
    {
     "data": {
      "text/plain": [
       "{'Chennai Super Kings': 12.0,\n",
       " 'Kings XI Punjab': 12.0,\n",
       " 'Kolkata Knight Riders': 12.0,\n",
       " 'Mumbai Indians': 12.0,\n",
       " 'Rajasthan Royals': 12.0,\n",
       " 'Royal Challengers Bangalore': 38.0}"
      ]
     },
     "execution_count": 102,
     "metadata": {},
     "output_type": "execute_result"
    }
   ],
   "source": [
    "year = matches.loc[matches['season']== 2012]\n",
    "year_1 = year[year['city']=='Bangalore']['winner'].value_counts()\n",
    "year_sum = float(year_1.sum())\n",
    "wins_dict = year_1.to_dict()\n",
    "wins_perc = {}\n",
    "for keys, values in wins_dict.items() :\n",
    "    wins_perc[keys] = round((values/year_sum*100))\n",
    "wins_perc\n"
   ]
  },
  {
   "cell_type": "code",
   "execution_count": null,
   "metadata": {
    "collapsed": true
   },
   "outputs": [],
   "source": []
  },
  {
   "cell_type": "code",
   "execution_count": null,
   "metadata": {
    "collapsed": true
   },
   "outputs": [],
   "source": []
  },
  {
   "cell_type": "code",
   "execution_count": null,
   "metadata": {
    "collapsed": true
   },
   "outputs": [],
   "source": []
  },
  {
   "cell_type": "code",
   "execution_count": null,
   "metadata": {
    "collapsed": true
   },
   "outputs": [],
   "source": []
  },
  {
   "cell_type": "code",
   "execution_count": null,
   "metadata": {
    "collapsed": true
   },
   "outputs": [],
   "source": []
  }
 ],
 "metadata": {
  "anaconda-cloud": {},
  "kernelspec": {
   "display_name": "Python [Root]",
   "language": "python",
   "name": "Python [Root]"
  },
  "language_info": {
   "codemirror_mode": {
    "name": "ipython",
    "version": 3
   },
   "file_extension": ".py",
   "mimetype": "text/x-python",
   "name": "python",
   "nbconvert_exporter": "python",
   "pygments_lexer": "ipython3",
   "version": "3.5.2"
  }
 },
 "nbformat": 4,
 "nbformat_minor": 0
}
